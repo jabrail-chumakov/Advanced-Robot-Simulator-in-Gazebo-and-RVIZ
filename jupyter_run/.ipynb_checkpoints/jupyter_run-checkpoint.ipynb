{
 "cells": [
  {
   "cell_type": "code",
   "execution_count": null,
   "id": "73fd58b2",
   "metadata": {
    "ExecuteTime": {
     "start_time": "2022-07-24T15:43:12.388Z"
    }
   },
   "outputs": [],
   "source": [
    "%matplotlib widget\n",
    "%matplotlib widget\n",
    "\n",
    "import os\n",
    "import tf\n",
    "import rospy\n",
    "import numpy as np\n",
    "import jupyros as jr\n",
    "import ipywidgets as widgets\n",
    "import matplotlib.pyplot as plt\n",
    "\n",
    "from jupyros import ros3d\n",
    "from std_msgs.msg import Int32\n",
    "from std_msgs.msg import String\n",
    "from nav_msgs.msg import Odometry\n",
    "from IPython.display import display\n",
    "from sensor_msgs.msg import LaserScan\n",
    "from IPython.display import clear_output\n",
    "from ipywidgets import interact, interactive\n",
    "from geometry_msgs.msg import Twist, Vector3 \n",
    "from matplotlib.animation import FuncAnimation\n",
    "from final_assignment.srv import Coordinates\n",
    "from tf.transformations import quaternion_matrix\n",
    "from ipywidgets import Button, Layout, ButtonStyle, GridBox, VBox, HBox\n",
    "\n",
    "reached_points = []"
   ]
  },
  {
   "cell_type": "code",
   "execution_count": null,
   "id": "b64c71fb",
   "metadata": {
    "ExecuteTime": {
     "start_time": "2022-07-24T15:43:12.390Z"
    }
   },
   "outputs": [],
   "source": [
    "def set_velocity(direction):\n",
    "    \n",
    "    init = Vector3(0, 0, 0)\n",
    "    repost = Twist(init, init)\n",
    "    \n",
    "    # Direction control with buttons\n",
    "    if direction == 'w':\n",
    "        repost.linear.x = velocity.value\n",
    "    \n",
    "    elif direction == 's':\n",
    "        repost.linear.x = -velocity.value\n",
    "    \n",
    "    elif direction == 'd':\n",
    "        repost.angular.z = -velocity.value\n",
    "    \n",
    "    elif direction == 'a':\n",
    "        repost.angular.z = velocity.value\n",
    "    \n",
    "    # Publish to /new_cmd_vel topic\n",
    "    pub = rospy.Publisher('/new_cmd_vel', Twist, queue_size = 10)\n",
    "    pub.publish(repost)"
   ]
  },
  {
   "cell_type": "code",
   "execution_count": null,
   "id": "642476d1",
   "metadata": {
    "ExecuteTime": {
     "start_time": "2022-07-24T15:43:12.392Z"
    }
   },
   "outputs": [],
   "source": [
    "def driving_console():\n",
    "    # Interface for control with keyboard\n",
    "    display(driving_comm)\n",
    "    display(check)\n",
    "    display(bcanc)\n",
    "    \n",
    "    up.on_click(on_button_clicked_w)\n",
    "    down.on_click(on_button_clicked_s)\n",
    "    left.on_click(on_button_clicked_a)\n",
    "    right.on_click(on_button_clicked_d)\n",
    "   \n",
    "    check.observe(check_handler, names = 'value')\n",
    "    bcanc.on_click(on_button_clicked_canc)\n",
    "    \n",
    "    # Visualize map\n",
    "    display_map()"
   ]
  },
  {
   "cell_type": "code",
   "execution_count": null,
   "id": "df7a384c",
   "metadata": {
    "ExecuteTime": {
     "start_time": "2022-07-24T15:43:12.395Z"
    }
   },
   "outputs": [],
   "source": [
    "def menu_choice(choice):\n",
    "    #callback for events on the modality choice menu\n",
    "    if choice == \"mode1\":\n",
    "        display(coo_x, coo_y, bstart, bcanc)\n",
    "        bstart.on_click(on_button_clicked_start)\n",
    "        bcanc.on_click(on_button_clicked_canc)\n",
    "    else:\n",
    "        display(velocity)\n",
    "        driving_console()"
   ]
  },
  {
   "cell_type": "code",
   "execution_count": null,
   "id": "6a664eaf",
   "metadata": {
    "ExecuteTime": {
     "start_time": "2022-07-24T15:43:12.399Z"
    }
   },
   "outputs": [],
   "source": [
    "def display_map():\n",
    "    # Visualize identical map of Gazebo to show robot's movement in real-time\n",
    "    v = ros3d.Viewer()\n",
    "    rc = ros3d.ROSConnection(url = \"ws://localhost:9090\")\n",
    "    tf_client = ros3d.TFClient(ros = rc, fixed_frame = \"map\")\n",
    "\n",
    "    laser_view = ros3d.LaserScan(topic = \"/scan\", ros = rc, tf_client = tf_client)\n",
    "    map_view = ros3d.OccupancyGrid(topic = \"/map\", ros = rc, tf_client = tf_client, continuous = True)\n",
    "    path = ros3d.Path(topic = \"/move_base/NavfnROS/plan\", ros = rc, tf_client = tf_client)\n",
    "    urdf = ros3d.URDFModel(ros = rc, tf_client = tf_client, path = os.environ.get('JUPYROS_ASSETS_URL', \"http://localhost:3000\"))\n",
    "    g = ros3d.GridModel()\n",
    "    v.objects = [laser_view, map_view, urdf]\n",
    "    display(v)"
   ]
  },
  {
   "cell_type": "code",
   "execution_count": null,
   "id": "122f6a27",
   "metadata": {
    "ExecuteTime": {
     "start_time": "2022-07-24T15:43:12.402Z"
    }
   },
   "outputs": [],
   "source": [
    "# Function to handle menu cases\n",
    "def menu_handler(b):\n",
    "    menu_choice(menu.value)\n",
    "\n",
    "# Function to return to main menu\n",
    "def on_button_clicked_canc(b):\n",
    "    clear_output()\n",
    "\n",
    "# Function /obstacle_avoidance checking\n",
    "def check_handler(b):\n",
    "    rospy.set_param(\"/obstacle_avoidance\", check.value)\n",
    "    \n",
    "# Function to set a new position to move to  \n",
    "def on_button_clicked_start(b):\n",
    "    with output:\n",
    "        rospy.wait_for_service('navigation')\n",
    "        new_pose = rospy.ServiceProxy('navigation', Coordinates)\n",
    "        rt = new_pose(coo_x.value, coo_y.value)\n",
    "        if rt.return_ == 1:\n",
    "            print(\"The robot has reached its goal!\")\n",
    "            reached_points.append(\"Reached!\")\n",
    "        else:\n",
    "            print(\"Time is out!\")\n",
    "            reached_points.append(\"The robot has not reached its goal!\")\n",
    "        display(bcanc)\n",
    "        bcanc.on_click(on_button_clicked_canc)\n",
    "         \n",
    "# Set velocity on clicked button\n",
    "def on_button_clicked_w(b):\n",
    "    set_velocity('w')\n",
    "def on_button_clicked_s(b):\n",
    "    set_velocity('s')\n",
    "def on_button_clicked_a(b):\n",
    "    set_velocity('a')\n",
    "def on_button_clicked_d(b):\n",
    "    set_velocity('d')\n"
   ]
  },
  {
   "cell_type": "code",
   "execution_count": null,
   "id": "747eb2eb",
   "metadata": {
    "ExecuteTime": {
     "start_time": "2022-07-24T15:43:12.414Z"
    }
   },
   "outputs": [],
   "source": [
    "class Visualiser:\n",
    "    def __init__(self, limit_on_x, fig_title):\n",
    "        self.fig, self.ax = plt.subplots()\n",
    "        self.ln, = plt.plot([], [], 'bo')\n",
    "        self.x_data, self.y_data = [], []\n",
    "        self.x_limits = limit_on_x\n",
    "        self.ax.set_title(fig_title)\n",
    "        \n",
    "    def plot_init(self):\n",
    "        self.ax.set_xlim(-self.x_limits, self.x_limits)\n",
    "        self.ax.set_ylim(-10, 10)\n",
    "        return self.ln\n",
    "    \n",
    "    def odom_clbk(self, msg):\n",
    "        self.y_data.append(msg.pose.pose.position.y) \n",
    "        self.x_data.append(msg.pose.pose.position.x)\n",
    "       \n",
    "    def laser_clbk(self, msg):\n",
    "        self.x_data = msg.ranges\n",
    "        self.y_data = msg.intensities        \n",
    "   \n",
    "    def refresh_plot(self, frame):\n",
    "        self.ln.set_data(self.x_data, self.y_data)\n",
    "        return self.ln\n",
    "    \n",
    "class Analysis:\n",
    "    def __init__(self):\n",
    "        self.fig, self.ax = plt.subplots()\n",
    "        self.y_data = [0.05, 0.05] \n",
    "        self.labels = ['Reached', 'Failed'] \n",
    "        self.bar = self.ax.bar(self.labels, self.y_data, color = 'b', width = 0.3)\n",
    "        self.ax.set_ylim(top = 10)\n",
    "        self.ax.set_title('Success history on robot reaching position')\n",
    "    \n",
    "    def objective_clbk(self, msg):\n",
    "        if msg.data == 1:\n",
    "            self.y_data[0] += 1\n",
    "        else :\n",
    "            self.y_data[1] += 1\n",
    "            \n",
    "    def animate(self, frame):\n",
    "        index = self.y_data[frame]\n",
    "        self.bar[frame].set_height(index)\n",
    "\n",
    "\n",
    "rospy.init_node('user_interface')\n",
    "\n",
    "intro = widgets.Textarea(value = 'Hello! Please select one of the modes below:', disabled = False)\n",
    "\n",
    "#create starting menu interface\n",
    "menu = widgets.RadioButtons(options = [\"mode1\", \"mode2\"], value = None, description = 'driving:', disabled = False)\n",
    "bstart = widgets.Button(description = \"Start moving\")\n",
    "bcanc = widgets.Button(description = \"Return to main menu\")\n",
    "\n",
    "#boxes for entering the coordinate of the taget to reach\n",
    "coo_x = widgets.FloatText(description = \"X coordinate: \")\n",
    "coo_y = widgets.FloatText(description = \"Y coordinate: \")\n",
    "\n",
    "velocity = widgets.FloatSlider(min = 0, max = 3, step = 0.1, value = 1, description = 'Robot speed: ');\n",
    "\n",
    "#listener for driving choice\n",
    "menu.observe(menu_handler, names = 'value')\n",
    "\n",
    "#console buttons\n",
    "up = Button(description = 'UP', layout = Layout(grid_area = 'b1'))\n",
    "left = Button(description = 'LEFT', layout = Layout(grid_area = 'b2'))\n",
    "right = Button(description = 'RIGHT', layout = Layout( grid_area = 'b3'))\n",
    "down = Button(description = 'DOWN', layout = Layout(grid_area = 'b4'))\n",
    "\n",
    "HBox([VBox([right, down]),VBox([up, left])])\n",
    "\n",
    "driving_comm = GridBox(children = [up, left, right, down],layout = Layout(\n",
    "    width = '50%', \n",
    "    grid_template_rows = 'auto auto',\n",
    "    grid_template_columns='33% 33% 33% 33%',\n",
    "    grid_template_areas='''\n",
    "    \" . b1 . \"\n",
    "    \"b2 . b3 \"\n",
    "    \" . b4 . \"\n",
    "    ''')\n",
    ")\n",
    "\n",
    "#checkbox widget for activate/deactivate the collision avoidance option during the manual navigation of the robot\n",
    "check = widgets.Checkbox(value = False, description = 'active collision avoidance')\n",
    "\n",
    "#create an output cell\n",
    "output = widgets.Output()\n",
    "\n",
    "#display both button and output cell display main menu of the GUI\n",
    "display(intro, menu, output)\n",
    "\n",
    "vis_odom = Visualiser(10, 'Position of the robot')\n",
    "sub_odom = rospy.Subscriber('/odom', Odometry, vis_odom.odom_clbk)\n",
    "ani1 = FuncAnimation(vis_odom.fig, vis_odom.refresh_plot, init_func = vis_odom.plot_init)\n",
    "plt.show(block = True)\n",
    "\n",
    "vis_scan = Visualiser(100, 'Laser scan measurements')\n",
    "sub_scan = rospy.Subscriber('/scan', LaserScan, vis_scan.laser_clbk)\n",
    "ani2 = FuncAnimation(vis_scan.fig, vis_scan.refresh_plot, init_func = vis_scan.plot_init)\n",
    "plt.show(block = True)\n",
    "\n",
    "analysis= Analysis()\n",
    "sub_success = rospy.Subscriber('/goal_reached', Int32, analysis.objective_clbk)\n",
    "ani3 = FuncAnimation(analysis.fig, analysis.animate, frames=2)\n",
    "plt.show(block = True)"
   ]
  },
  {
   "cell_type": "code",
   "execution_count": null,
   "id": "02e7e61f",
   "metadata": {},
   "outputs": [],
   "source": []
  }
 ],
 "metadata": {
  "kernelspec": {
   "display_name": "Python 3 (ipykernel)",
   "language": "python",
   "name": "python3"
  },
  "language_info": {
   "codemirror_mode": {
    "name": "ipython",
    "version": 3
   },
   "file_extension": ".py",
   "mimetype": "text/x-python",
   "name": "python",
   "nbconvert_exporter": "python",
   "pygments_lexer": "ipython3",
   "version": "3.8.10"
  },
  "toc": {
   "base_numbering": 1,
   "nav_menu": {},
   "number_sections": true,
   "sideBar": true,
   "skip_h1_title": false,
   "title_cell": "Table of Contents",
   "title_sidebar": "Contents",
   "toc_cell": false,
   "toc_position": {},
   "toc_section_display": true,
   "toc_window_display": false
  },
  "varInspector": {
   "cols": {
    "lenName": 16,
    "lenType": 16,
    "lenVar": 40
   },
   "kernels_config": {
    "python": {
     "delete_cmd_postfix": "",
     "delete_cmd_prefix": "del ",
     "library": "var_list.py",
     "varRefreshCmd": "print(var_dic_list())"
    },
    "r": {
     "delete_cmd_postfix": ") ",
     "delete_cmd_prefix": "rm(",
     "library": "var_list.r",
     "varRefreshCmd": "cat(var_dic_list()) "
    }
   },
   "types_to_exclude": [
    "module",
    "function",
    "builtin_function_or_method",
    "instance",
    "_Feature"
   ],
   "window_display": false
  }
 },
 "nbformat": 4,
 "nbformat_minor": 5
}
